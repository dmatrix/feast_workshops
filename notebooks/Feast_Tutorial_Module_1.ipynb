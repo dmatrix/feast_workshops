{
 "nbformat": 4,
 "nbformat_minor": 0,
 "metadata": {
  "colab": {
   "name": "Feast Codelab",
   "provenance": [],
   "collapsed_sections": [
    "ngl7HCtmz3hG"
   ],
   "toc_visible": true,
   "include_colab_link": true
  },
  "kernelspec": {
   "name": "python3",
   "display_name": "Python 3"
  },
  "language_info": {
   "name": "python"
  }
 },
 "cells": [
  {
   "cell_type": "markdown",
   "metadata": {
    "id": "view-in-github",
    "colab_type": "text"
   },
   "source": [
    "<a href=\"https://colab.research.google.com/github/dmatrix/feast_workshops/blob/master/notebooks/Feast_Tutorial_Module_1.ipynb\" target=\"_parent\"><img src=\"https://colab.research.google.com/assets/colab-badge.svg\" alt=\"Open In Colab\"/></a>"
   ]
  },
  {
   "cell_type": "markdown",
   "metadata": {
    "id": "9_Y997DzvOMI"
   },
   "source": [
    "## Step 1: Install Feast\n",
    "\n",
    "Install Feast using pip:\n"
   ]
  },
  {
   "cell_type": "code",
   "metadata": {
    "colab": {
     "base_uri": "https://localhost:8080/"
    },
    "id": "80FnswHOvJUd",
    "outputId": "c55e3f7b-e0d5-447e-d44e-3067a3c984ea"
   },
   "source": [
    "pip install feast"
   ],
   "execution_count": null,
   "outputs": [
    {
     "output_type": "stream",
     "text": [
      "Requirement already satisfied: feast in /usr/local/lib/python3.7/dist-packages (0.11.0)\n",
      "Requirement already satisfied: tqdm==4.* in /usr/local/lib/python3.7/dist-packages (from feast) (4.41.1)\n",
      "Requirement already satisfied: Jinja2>=2.0.0 in /usr/local/lib/python3.7/dist-packages (from feast) (2.11.3)\n",
      "Requirement already satisfied: pyarrow>=2.0.0 in /usr/local/lib/python3.7/dist-packages (from feast) (3.0.0)\n",
      "Requirement already satisfied: pandavro==1.5.* in /usr/local/lib/python3.7/dist-packages (from feast) (1.5.2)\n",
      "Requirement already satisfied: fastavro>=1.1.0 in /usr/local/lib/python3.7/dist-packages (from feast) (1.4.3)\n",
      "Requirement already satisfied: colorama>=0.3.9 in /usr/local/lib/python3.7/dist-packages (from feast) (0.4.4)\n",
      "Requirement already satisfied: mmh3 in /usr/local/lib/python3.7/dist-packages (from feast) (3.0.0)\n",
      "Requirement already satisfied: PyYAML==5.3.* in /usr/local/lib/python3.7/dist-packages (from feast) (5.3.1)\n",
      "Requirement already satisfied: protobuf>=3.10 in /usr/local/lib/python3.7/dist-packages (from feast) (3.17.3)\n",
      "Requirement already satisfied: tabulate==0.8.* in /usr/local/lib/python3.7/dist-packages (from feast) (0.8.9)\n",
      "Requirement already satisfied: googleapis-common-protos==1.52.* in /usr/local/lib/python3.7/dist-packages (from feast) (1.52.0)\n",
      "Requirement already satisfied: tenacity>=7.* in /usr/local/lib/python3.7/dist-packages (from feast) (8.0.1)\n",
      "Requirement already satisfied: toml==0.10.* in /usr/local/lib/python3.7/dist-packages (from feast) (0.10.2)\n",
      "Requirement already satisfied: Click==7.* in /usr/local/lib/python3.7/dist-packages (from feast) (7.1.2)\n",
      "Requirement already satisfied: grpcio>=1.34.0 in /usr/local/lib/python3.7/dist-packages (from feast) (1.34.1)\n",
      "Requirement already satisfied: pydantic>=1.0.0 in /usr/local/lib/python3.7/dist-packages (from feast) (1.8.2)\n",
      "Requirement already satisfied: pandas>=1.0.0 in /usr/local/lib/python3.7/dist-packages (from feast) (1.1.5)\n",
      "Requirement already satisfied: jsonschema in /usr/local/lib/python3.7/dist-packages (from feast) (2.6.0)\n",
      "Requirement already satisfied: google-api-core>=1.23.0 in /usr/local/lib/python3.7/dist-packages (from feast) (1.26.3)\n",
      "Requirement already satisfied: six>=1.9 in /usr/local/lib/python3.7/dist-packages (from pandavro==1.5.*->feast) (1.15.0)\n",
      "Requirement already satisfied: numpy>=1.7.0 in /usr/local/lib/python3.7/dist-packages (from pandavro==1.5.*->feast) (1.19.5)\n",
      "Requirement already satisfied: setuptools>=40.3.0 in /usr/local/lib/python3.7/dist-packages (from google-api-core>=1.23.0->feast) (57.2.0)\n",
      "Requirement already satisfied: google-auth<2.0dev,>=1.21.1 in /usr/local/lib/python3.7/dist-packages (from google-api-core>=1.23.0->feast) (1.32.1)\n",
      "Requirement already satisfied: pytz in /usr/local/lib/python3.7/dist-packages (from google-api-core>=1.23.0->feast) (2018.9)\n",
      "Requirement already satisfied: requests<3.0.0dev,>=2.18.0 in /usr/local/lib/python3.7/dist-packages (from google-api-core>=1.23.0->feast) (2.23.0)\n",
      "Requirement already satisfied: packaging>=14.3 in /usr/local/lib/python3.7/dist-packages (from google-api-core>=1.23.0->feast) (21.0)\n",
      "Requirement already satisfied: pyasn1-modules>=0.2.1 in /usr/local/lib/python3.7/dist-packages (from google-auth<2.0dev,>=1.21.1->google-api-core>=1.23.0->feast) (0.2.8)\n",
      "Requirement already satisfied: cachetools<5.0,>=2.0.0 in /usr/local/lib/python3.7/dist-packages (from google-auth<2.0dev,>=1.21.1->google-api-core>=1.23.0->feast) (4.2.2)\n",
      "Requirement already satisfied: rsa<5,>=3.1.4 in /usr/local/lib/python3.7/dist-packages (from google-auth<2.0dev,>=1.21.1->google-api-core>=1.23.0->feast) (4.7.2)\n",
      "Requirement already satisfied: MarkupSafe>=0.23 in /usr/local/lib/python3.7/dist-packages (from Jinja2>=2.0.0->feast) (2.0.1)\n",
      "Requirement already satisfied: pyparsing>=2.0.2 in /usr/local/lib/python3.7/dist-packages (from packaging>=14.3->google-api-core>=1.23.0->feast) (2.4.7)\n",
      "Requirement already satisfied: python-dateutil>=2.7.3 in /usr/local/lib/python3.7/dist-packages (from pandas>=1.0.0->feast) (2.8.1)\n",
      "Requirement already satisfied: pyasn1<0.5.0,>=0.4.6 in /usr/local/lib/python3.7/dist-packages (from pyasn1-modules>=0.2.1->google-auth<2.0dev,>=1.21.1->google-api-core>=1.23.0->feast) (0.4.8)\n",
      "Requirement already satisfied: typing-extensions>=3.7.4.3 in /usr/local/lib/python3.7/dist-packages (from pydantic>=1.0.0->feast) (3.7.4.3)\n",
      "Requirement already satisfied: idna<3,>=2.5 in /usr/local/lib/python3.7/dist-packages (from requests<3.0.0dev,>=2.18.0->google-api-core>=1.23.0->feast) (2.10)\n",
      "Requirement already satisfied: chardet<4,>=3.0.2 in /usr/local/lib/python3.7/dist-packages (from requests<3.0.0dev,>=2.18.0->google-api-core>=1.23.0->feast) (3.0.4)\n",
      "Requirement already satisfied: urllib3!=1.25.0,!=1.25.1,<1.26,>=1.21.1 in /usr/local/lib/python3.7/dist-packages (from requests<3.0.0dev,>=2.18.0->google-api-core>=1.23.0->feast) (1.24.3)\n",
      "Requirement already satisfied: certifi>=2017.4.17 in /usr/local/lib/python3.7/dist-packages (from requests<3.0.0dev,>=2.18.0->google-api-core>=1.23.0->feast) (2021.5.30)\n"
     ],
     "name": "stdout"
    }
   ]
  },
  {
   "cell_type": "markdown",
   "metadata": {
    "id": "OZetvs5xx4GP"
   },
   "source": [
    "## Step 2: Create a feature repository\n",
    "\n",
    "A feature repository is a directory that contains the configuration of the feature store and individual features. This configuration is written as code (Python/YAML) and it's highly recommended that teams track it centrally using git. See [Feature Repository](https://docs.feast.dev/reference/feature-repository) for a detailed explanation of feature repositories.\n",
    "\n",
    "The easiest way to create a new feature repository to use the `feast init` command:"
   ]
  },
  {
   "cell_type": "code",
   "metadata": {
    "id": "IhirSkgUvYau",
    "colab": {
     "base_uri": "https://localhost:8080/"
    },
    "outputId": "2f1d9a75-5d92-4571-8531-a876adc90265"
   },
   "source": [
    "%%shell\n",
    "cd /content/\n",
    "feast init feature_repo"
   ],
   "execution_count": null,
   "outputs": [
    {
     "output_type": "stream",
     "text": [
      "\n",
      "Creating a new Feast repository in \u001B[1m\u001B[32m/content/feature_repo\u001B[0m.\n",
      "\n"
     ],
     "name": "stdout"
    },
    {
     "output_type": "execute_result",
     "data": {
      "text/plain": [
       ""
      ]
     },
     "metadata": {
      "tags": []
     },
     "execution_count": 85
    }
   ]
  },
  {
   "cell_type": "markdown",
   "metadata": {
    "id": "OdTASZPvyKCe"
   },
   "source": [
    "### Inspecting the feature repository\n",
    "\n",
    "Let's take a look at the repo itself. It breaks down into\n",
    "\n",
    "\n",
    "*   `data/` contains the raw parquet data\n",
    "*   `example.py` contains demo feature definitions\n",
    "*   `feature_store.yaml` contains a demo setup configuring where data sources are\n",
    "\n"
   ]
  },
  {
   "cell_type": "code",
   "metadata": {
    "colab": {
     "base_uri": "https://localhost:8080/"
    },
    "id": "9jXuzt4ovzA3",
    "outputId": "180100db-6710-4d27-d1e8-0a7f40c5319e"
   },
   "source": [
    "%cd /content/feature_repo\n",
    "!ls"
   ],
   "execution_count": null,
   "outputs": [
    {
     "output_type": "stream",
     "text": [
      "/content/feature_repo\n",
      "data  example.py  feature_store.yaml\n"
     ],
     "name": "stdout"
    }
   ]
  },
  {
   "cell_type": "markdown",
   "metadata": {
    "id": "rRL8-ubWzUFy"
   },
   "source": [
    "## Step 3: Applying and deploying feature definitions\n",
    "\n",
    "`feast apply` scans python files in the current directory for feature definitions and deploys infrastructure according to `feature_store.yaml`"
   ]
  },
  {
   "cell_type": "code",
   "metadata": {
    "colab": {
     "base_uri": "https://localhost:8080/"
    },
    "id": "RYKCKKrcxYZG",
    "outputId": "40655dac-4683-4881-c888-b3bffea01e51"
   },
   "source": [
    "%%shell\n",
    "feast apply"
   ],
   "execution_count": null,
   "outputs": [
    {
     "output_type": "stream",
     "text": [
      "Registered entity \u001B[1m\u001B[32mdriver_id\u001B[0m\n",
      "Registered feature view \u001B[1m\u001B[32mdriver_hourly_stats\u001B[0m\n",
      "Deploying infrastructure for \u001B[1m\u001B[32mdriver_hourly_stats\u001B[0m\n"
     ],
     "name": "stdout"
    },
    {
     "output_type": "execute_result",
     "data": {
      "text/plain": [
       ""
      ]
     },
     "metadata": {
      "tags": []
     },
     "execution_count": 87
    }
   ]
  },
  {
   "cell_type": "markdown",
   "metadata": {
    "id": "ngl7HCtmz3hG"
   },
   "source": [
    "## Step 4: Materialize features\n",
    "\n",
    "We now serialize these features since the beginning of time to prepare for model training / serving (note: `materialize-incremental` serializes all new features since the last `materialize` call)"
   ]
  },
  {
   "cell_type": "code",
   "metadata": {
    "colab": {
     "base_uri": "https://localhost:8080/"
    },
    "id": "xQpFfcGFwU-S",
    "outputId": "efb9be88-3768-42a4-8d90-e3b3165d7fdc"
   },
   "source": [
    "%%shell\n",
    "CURRENT_TIME=$(date -u +\"%Y-%m-%dT%H:%M:%S\")\n",
    "feast materialize-incremental $CURRENT_TIME"
   ],
   "execution_count": null,
   "outputs": [
    {
     "output_type": "stream",
     "text": [
      "Materializing \u001B[1m\u001B[32m1\u001B[0m feature views to \u001B[1m\u001B[32m2021-07-21 21:03:44+00:00\u001B[0m into the \u001B[1m\u001B[32msqlite\u001B[0m online store.\n",
      "\n",
      "\u001B[1m\u001B[32mdriver_hourly_stats\u001B[0m from \u001B[1m\u001B[32m2021-07-21 21:03:30+00:00\u001B[0m to \u001B[1m\u001B[32m2021-07-21 21:03:44+00:00\u001B[0m:\n",
      "\r0it [00:00, ?it/s]\r0it [00:00, ?it/s]\n"
     ],
     "name": "stdout"
    },
    {
     "output_type": "execute_result",
     "data": {
      "text/plain": [
       ""
      ]
     },
     "metadata": {
      "tags": []
     },
     "execution_count": 89
    }
   ]
  },
  {
   "cell_type": "markdown",
   "metadata": {
    "id": "l7t12bhH4i9H"
   },
   "source": [
    "### Inspect materialized features\n",
    "\n",
    "Note that now there are `online_store.db` and `registry.db`, which store the materialized features and schema information, respectively"
   ]
  },
  {
   "cell_type": "code",
   "metadata": {
    "colab": {
     "base_uri": "https://localhost:8080/"
    },
    "id": "aVIgSYhI4cvR",
    "outputId": "7558ffc4-a9cd-4d30-81ea-7398879c7bba"
   },
   "source": [
    "%%shell\n",
    "cd data\n",
    "ls"
   ],
   "execution_count": null,
   "outputs": [
    {
     "output_type": "stream",
     "text": [
      "driver_stats.parquet  online_store.db  registry.db\n"
     ],
     "name": "stdout"
    },
    {
     "output_type": "execute_result",
     "data": {
      "text/plain": [
       ""
      ]
     },
     "metadata": {
      "tags": []
     },
     "execution_count": 96
    }
   ]
  },
  {
   "cell_type": "markdown",
   "metadata": {
    "id": "hoo8GHb_2E0k"
   },
   "source": [
    "## Step 5: Fetch features for offline / online cases"
   ]
  },
  {
   "cell_type": "markdown",
   "metadata": {
    "id": "uV7rtRQgzyf0"
   },
   "source": [
    "### Read some historical data for model training\n",
    "\n",
    "We pass in the 'entities' aka the unique identifiers of the example features we want as well as the feature names we want to extract.\n",
    "\n",
    "Note that we include timestamps because want the features for the same driver at various timestamps to be used in a model"
   ]
  },
  {
   "cell_type": "code",
   "metadata": {
    "colab": {
     "base_uri": "https://localhost:8080/"
    },
    "id": "C6Fzia7YwBzz",
    "outputId": "f3623388-8cbb-463f-d4f8-24d58587dd52"
   },
   "source": [
    "from datetime import datetime\n",
    "\n",
    "import pandas as pd\n",
    "\n",
    "from feast import FeatureStore\n",
    "\n",
    "entity_df = pd.DataFrame.from_dict(\n",
    "    {\n",
    "        \"driver_id\": [1001, 1002, 1003, 1004],\n",
    "        \"event_timestamp\": [\n",
    "            datetime(2021, 4, 12, 10, 59, 42),\n",
    "            datetime(2021, 4, 12, 8, 12, 10),\n",
    "            datetime(2021, 4, 12, 16, 40, 26),\n",
    "            datetime(2021, 4, 12, 15, 1, 12),\n",
    "        ],\n",
    "    }\n",
    ")\n",
    "\n",
    "store = FeatureStore(repo_path=\".\")\n",
    "\n",
    "training_df = store.get_historical_features(\n",
    "    entity_df=entity_df,\n",
    "    features=[\n",
    "        \"driver_hourly_stats:conv_rate\",\n",
    "        \"driver_hourly_stats:acc_rate\",\n",
    "        \"driver_hourly_stats:avg_daily_trips\",\n",
    "    ],\n",
    ").to_df()\n",
    "\n",
    "print(\"----- Feature schema -----\\n\")\n",
    "print(training_df.info())\n",
    "\n",
    "print()\n",
    "print(\"----- Example features -----\\n\")\n",
    "print(training_df.head())"
   ],
   "execution_count": null,
   "outputs": [
    {
     "output_type": "stream",
     "text": [
      "----- Feature schema -----\n",
      "\n",
      "<class 'pandas.core.frame.DataFrame'>\n",
      "Int64Index: 4 entries, 0 to 3\n",
      "Data columns (total 5 columns):\n",
      " #   Column                                Non-Null Count  Dtype              \n",
      "---  ------                                --------------  -----              \n",
      " 0   event_timestamp                       4 non-null      datetime64[ns, UTC]\n",
      " 1   driver_id                             4 non-null      int64              \n",
      " 2   driver_hourly_stats__conv_rate        4 non-null      float64            \n",
      " 3   driver_hourly_stats__acc_rate         4 non-null      float64            \n",
      " 4   driver_hourly_stats__avg_daily_trips  4 non-null      int64              \n",
      "dtypes: datetime64[ns, UTC](1), float64(2), int64(2)\n",
      "memory usage: 192.0 bytes\n",
      "None\n",
      "\n",
      "----- Example features -----\n",
      "\n",
      "            event_timestamp  ...  driver_hourly_stats__avg_daily_trips\n",
      "0 2021-04-12 08:12:10+00:00  ...                                   827\n",
      "1 2021-04-12 10:59:42+00:00  ...                                   555\n",
      "2 2021-04-12 15:01:12+00:00  ...                                   244\n",
      "3 2021-04-12 16:40:26+00:00  ...                                   398\n",
      "\n",
      "[4 rows x 5 columns]\n"
     ],
     "name": "stdout"
    }
   ]
  },
  {
   "cell_type": "markdown",
   "metadata": {
    "id": "GNecKOaI0J2Z"
   },
   "source": [
    "### Read features at serving time\n"
   ]
  },
  {
   "cell_type": "code",
   "metadata": {
    "colab": {
     "base_uri": "https://localhost:8080/"
    },
    "id": "a-PUsUWUxoH9",
    "outputId": "aa5cb333-b7d4-4e32-9dc8-c994121acef8"
   },
   "source": [
    "from pprint import pprint\n",
    "from feast import FeatureStore\n",
    "\n",
    "store = FeatureStore(repo_path=\".\")\n",
    "\n",
    "feature_vector = store.get_online_features(\n",
    "    features=[\n",
    "        \"driver_hourly_stats:conv_rate\",\n",
    "        \"driver_hourly_stats:acc_rate\",\n",
    "        \"driver_hourly_stats:avg_daily_trips\",\n",
    "    ],\n",
    "    entity_rows=[{\"driver_id\": 1001}],\n",
    ").to_dict()\n",
    "\n",
    "pprint(feature_vector)"
   ],
   "execution_count": null,
   "outputs": [
    {
     "output_type": "stream",
     "text": [
      "{'driver_hourly_stats__acc_rate': [0.2474302053451538],\n",
      " 'driver_hourly_stats__avg_daily_trips': [899],\n",
      " 'driver_hourly_stats__conv_rate': [0.7521973848342896],\n",
      " 'driver_id': [1001]}\n"
     ],
     "name": "stdout"
    }
   ]
  }
 ]
}
